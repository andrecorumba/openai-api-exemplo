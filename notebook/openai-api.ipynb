{
 "cells": [
  {
   "cell_type": "code",
   "execution_count": 1,
   "metadata": {},
   "outputs": [],
   "source": [
    "# !pip install openai"
   ]
  },
  {
   "cell_type": "code",
   "execution_count": 2,
   "metadata": {},
   "outputs": [],
   "source": [
    "from openai import OpenAI\n",
    "import os\n",
    "from dotenv import load_dotenv, find_dotenv\n",
    "load_dotenv(find_dotenv())\n",
    "\n",
    "# Autenticação na plataforma\n",
    "client = OpenAI(\n",
    "    api_key=os.getenv(\"OPENAI_API_KEY\"),\n",
    "    organization=os.getenv(\"ORGANIZATION\"),\n",
    "    project=os.getenv(\"PROJECT\"),\n",
    ")"
   ]
  },
  {
   "cell_type": "code",
   "execution_count": 5,
   "metadata": {},
   "outputs": [
    {
     "data": {
      "text/plain": [
       "ChatCompletionMessage(content='Era uma vez uma capivara muito especial chamada Carla. Diferente das outras capivaras que habitavam o grande lago da floresta, Carla tinha um gosto muito peculiar: ela adorava usar calças vermelhas! Todas as manhãs, quando o sol começava a brilhar, Carla escolhia sua calça vermelha favorita e pulava na água, pronta para mais um dia de aventuras.\\n\\nUm dia, enquanto explorava as margens do lago, Carla encontrou uma tartaruga chamada Tita. Tita estava muito triste porque não conseguia alcançar as folhas mais altas das árvores. Carla, com seu coração bondoso, teve uma ideia brilhante. “Vamos fazer uma escada de folhas!” sugeriu ela. Assim, Carla e Tita trabalharam juntas, amarrando folhas e galhos até que a escada estivesse pronta.\\n\\nQuando Tita subiu na escada e alcançou as folhas, seu sorriso iluminou o dia. \"Obrigada, Carla! Você é a melhor amiga que eu poderia ter!\", disse Tita. Carla ficou tão feliz que sua calça vermelha parecia brilhar mais do que nunca.\\n\\nNaquele dia, as duas novas amigas decidiram organizar uma festa à beira do lago. Elas convidaram todos os animais da floresta: os patos, os coelhos, as rãs e até os peixes do lago! Carla, com sua calça vermelha, foi a estrela da festa. Ela dançou e fez todos rirem com suas piruetas engraçadas.\\n\\nA festa foi um sucesso, e todos se divertiram muito. No final do dia, enquanto o sol se punha, Carla percebeu que o que fazia sua calça vermelha tão especial não era apenas a cor, mas sim a amizade e a alegria que havia compartilhado com Tita e todos os outros animais.\\n\\nE assim, a capivara de calça vermelha se tornou a heroína da floresta, sempre pronta para ajudar seus amigos e fazer novas descobertas, lembrando a todos que a verdadeira beleza está na amizade e na bondade.\\n\\nE viveram felizes para sempre, com Carla sempre usando sua calça vermelha em todas as suas aventuras!', refusal=None, role='assistant', audio=None, function_call=None, tool_calls=None)"
      ]
     },
     "execution_count": 5,
     "metadata": {},
     "output_type": "execute_result"
    }
   ],
   "source": [
    "\n",
    "completion = client.chat.completions.create(\n",
    "    model=\"gpt-4o-mini\",\n",
    "    messages=[\n",
    "        {\"role\": \"system\", \"content\": \"Você é um assistente que sabe inventar histórias infantis.\"},\n",
    "        {\"role\": \"user\", \"content\": \"Invente uma história de uma capivara que usava calça vermelha.\"}\n",
    "    ],\n",
    "    temperature=0.8,\n",
    ")\n",
    "\n",
    "completion.choices[0].message\n",
    "\n"
   ]
  },
  {
   "cell_type": "code",
   "execution_count": 6,
   "metadata": {},
   "outputs": [
    {
     "name": "stdout",
     "output_type": "stream",
     "text": [
      "Era uma vez uma capivara muito especial chamada Carla. Diferente das outras capivaras que habitavam o grande lago da floresta, Carla tinha um gosto muito peculiar: ela adorava usar calças vermelhas! Todas as manhãs, quando o sol começava a brilhar, Carla escolhia sua calça vermelha favorita e pulava na água, pronta para mais um dia de aventuras.\n",
      "\n",
      "Um dia, enquanto explorava as margens do lago, Carla encontrou uma tartaruga chamada Tita. Tita estava muito triste porque não conseguia alcançar as folhas mais altas das árvores. Carla, com seu coração bondoso, teve uma ideia brilhante. “Vamos fazer uma escada de folhas!” sugeriu ela. Assim, Carla e Tita trabalharam juntas, amarrando folhas e galhos até que a escada estivesse pronta.\n",
      "\n",
      "Quando Tita subiu na escada e alcançou as folhas, seu sorriso iluminou o dia. \"Obrigada, Carla! Você é a melhor amiga que eu poderia ter!\", disse Tita. Carla ficou tão feliz que sua calça vermelha parecia brilhar mais do que nunca.\n",
      "\n",
      "Naquele dia, as duas novas amigas decidiram organizar uma festa à beira do lago. Elas convidaram todos os animais da floresta: os patos, os coelhos, as rãs e até os peixes do lago! Carla, com sua calça vermelha, foi a estrela da festa. Ela dançou e fez todos rirem com suas piruetas engraçadas.\n",
      "\n",
      "A festa foi um sucesso, e todos se divertiram muito. No final do dia, enquanto o sol se punha, Carla percebeu que o que fazia sua calça vermelha tão especial não era apenas a cor, mas sim a amizade e a alegria que havia compartilhado com Tita e todos os outros animais.\n",
      "\n",
      "E assim, a capivara de calça vermelha se tornou a heroína da floresta, sempre pronta para ajudar seus amigos e fazer novas descobertas, lembrando a todos que a verdadeira beleza está na amizade e na bondade.\n",
      "\n",
      "E viveram felizes para sempre, com Carla sempre usando sua calça vermelha em todas as suas aventuras!\n"
     ]
    }
   ],
   "source": [
    "print(completion.choices[0].message.content)"
   ]
  }
 ],
 "metadata": {
  "kernelspec": {
   "display_name": "openai-api-exemplo-ou-pirPI-py3.12",
   "language": "python",
   "name": "python3"
  },
  "language_info": {
   "codemirror_mode": {
    "name": "ipython",
    "version": 3
   },
   "file_extension": ".py",
   "mimetype": "text/x-python",
   "name": "python",
   "nbconvert_exporter": "python",
   "pygments_lexer": "ipython3",
   "version": "3.12.7"
  }
 },
 "nbformat": 4,
 "nbformat_minor": 2
}
